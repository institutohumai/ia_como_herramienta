{
 "cells": [
  {
   "cell_type": "markdown",
   "id": "1ed677d1",
   "metadata": {},
   "source": [
    "# ChatGPT con la API\n",
    "\n",
    "\n",
    "### Referencias\n",
    "\n"
   ]
  },
  {
   "cell_type": "markdown",
   "id": "bf91e9d4",
   "metadata": {},
   "source": [
    "## Instalar libreria"
   ]
  },
  {
   "cell_type": "code",
   "execution_count": 3,
   "id": "1ccc3899",
   "metadata": {},
   "outputs": [],
   "source": [
    "#!pip install openai"
   ]
  },
  {
   "cell_type": "code",
   "execution_count": 6,
   "id": "1209f6d9",
   "metadata": {},
   "outputs": [],
   "source": [
    "import os\n",
    "import openai\n",
    "\n",
    "# Tiene que haber un archivo setteado con la API key\n",
    "def get_api_key():\n",
    "    with open('api-key.txt', 'r') as fp:\n",
    "        key = fp.read()\n",
    "    return key\n",
    "\n",
    "\n",
    "openai.api_key = get_api_key()"
   ]
  },
  {
   "cell_type": "code",
   "execution_count": null,
   "id": "c82674d5",
   "metadata": {},
   "outputs": [],
   "source": [
    "openai.ChatCompletion.create()"
   ]
  },
  {
   "cell_type": "markdown",
   "id": "9e447661",
   "metadata": {},
   "source": [
    "# Traductor multi idioma"
   ]
  },
  {
   "cell_type": "code",
   "execution_count": 16,
   "id": "0d58f7de",
   "metadata": {},
   "outputs": [],
   "source": [
    "def traductor(texto, idioma_destino='Inglés'):\n",
    "    res = openai.ChatCompletion.create(\n",
    "      model=\"gpt-3.5-turbo\",\n",
    "      messages=[\n",
    "            {\"role\": \"system\", \"content\": \"Quiero que traduzcas lo que te digo al \"+idioma_destino+\".\"},\n",
    "            {\"role\": \"user\", \"content\": texto},\n",
    "        ]\n",
    "    )\n",
    "    mensaje_traducido = res['choices'][0]['message']['content']\n",
    "    return mensaje_traducido"
   ]
  },
  {
   "cell_type": "code",
   "execution_count": 18,
   "id": "aa8a5a63",
   "metadata": {},
   "outputs": [],
   "source": [
    "msj_en_al = traductor(\"Ayer se cortó la luz en todo Argentina por una falla en Atucha\", 'Alemán')"
   ]
  },
  {
   "cell_type": "code",
   "execution_count": 19,
   "id": "5f28ec8d",
   "metadata": {},
   "outputs": [
    {
     "data": {
      "text/plain": [
       "'Gestern fiel in ganz Argentinien der Strom aus wegen eines Fehlers in Atucha.'"
      ]
     },
     "execution_count": 19,
     "metadata": {},
     "output_type": "execute_result"
    }
   ],
   "source": [
    "msj_en_al"
   ]
  },
  {
   "cell_type": "code",
   "execution_count": 20,
   "id": "2f519b81",
   "metadata": {},
   "outputs": [
    {
     "data": {
      "text/plain": [
       "'Ayer se produjo un corte de energía en toda Argentina debido a un fallo en Atucha.'"
      ]
     },
     "execution_count": 20,
     "metadata": {},
     "output_type": "execute_result"
    }
   ],
   "source": [
    "traductor('Gestern fiel in ganz Argentinien der Strom aus wegen eines Fehlers in Atucha.', 'Español')"
   ]
  },
  {
   "cell_type": "code",
   "execution_count": 21,
   "id": "e62b000b",
   "metadata": {},
   "outputs": [
    {
     "data": {
      "text/plain": [
       "'\"Jajaja, we have a tranquil country.\"'"
      ]
     },
     "execution_count": 21,
     "metadata": {},
     "output_type": "execute_result"
    }
   ],
   "source": [
    "traductor(\"jajaja un país tranqui tenemos\", 'Inglés')"
   ]
  },
  {
   "cell_type": "code",
   "execution_count": 31,
   "id": "52cfa096",
   "metadata": {},
   "outputs": [],
   "source": [
    "def socrates(texto):\n",
    "    res = openai.ChatCompletion.create(\n",
    "      model=\"gpt-3.5-turbo\",\n",
    "      messages=[\n",
    "            {\"role\": \"system\", \"content\": \"Quiero que personifiques a Donald Trump.\"},\n",
    "            {\"role\": \"user\", \"content\": \"\"},\n",
    "            #{\"role\": \"assistant\", \"content\": \"¿No crees acaso que hay cosas más importantes en la vida que la riqueza?\"},\n",
    "           {\"role\": \"user\", \"content\": texto},\n",
    "        ]\n",
    "    )\n",
    "    mensaje_traducido = res['choices'][0]['message']['content']\n",
    "    return mensaje_traducido"
   ]
  },
  {
   "cell_type": "code",
   "execution_count": 33,
   "id": "a12dadc2",
   "metadata": {},
   "outputs": [
    {
     "data": {
      "text/plain": [
       "'¡Claro! Aquí tienes un código que genera una lista de 5 diccionarios con algunos productos tecnológicos, su año de lanzamiento y precio (los precios son ficticios y están elegidos aleatoriamente):\\n\\n```python\\nimport random\\n\\nproductos = [\"iPhone\", \"Samsung Galaxy\", \"iPad\", \"Macbook\", \"Microsoft Surface\"]\\n\\ndata = []\\nfor i in range(5):\\n    producto = random.choice(productos)\\n    year = random.randint(2000, 2021)\\n    precio = random.randint(100, 2000)\\n    data.append({\\n        \"producto\": producto,\\n        \"año de lanzamiento\": year,\\n        \"precio\": precio\\n    })\\n\\nprint(data)\\n```\\n\\nLa salida puede variar en cada ejecución, pero aquí tienes un ejemplo:\\n\\n```\\n[\\n    {\\'producto\\': \\'Samsung Galaxy\\', \\'año de lanzamiento\\': 2007, \\'precio\\': 734},\\n    {\\'producto\\': \\'iPhone\\', \\'año de lanzamiento\\': 2018, \\'precio\\': 1836},\\n    {\\'producto\\': \\'iPad\\', \\'año de lanzamiento\\': 2004, \\'precio\\': 1687},\\n    {\\'producto\\': \\'Microsoft Surface\\', \\'año de lanzamiento\\': 2016, \\'precio\\': 1791},\\n    {\\'producto\\': \\'Macbook\\', \\'año de lanzamiento\\': 2007, \\'precio\\': 1280}\\n]\\n``` \\n\\nEspero que te sea de utilidad. ¡Cuéntame si necesitas algo más!'"
      ]
     },
     "execution_count": 33,
     "metadata": {},
     "output_type": "execute_result"
    }
   ],
   "source": [
    "res = openai.ChatCompletion.create(\n",
    "  model=\"gpt-3.5-turbo\",\n",
    "  messages=[\n",
    "        {\"role\": \"system\", \"content\": \"Quiero que actues como un generador de data de python.\"},\n",
    "        {\"role\": \"user\", \"content\": \"Quiero que me generes una lista con diccionarios con productos tecnológicos, año de lanzamiento, y precio\"},\n",
    "    ]\n",
    ")\n",
    "data = res['choices'][0]['message']['content']\n",
    "data"
   ]
  },
  {
   "cell_type": "code",
   "execution_count": 34,
   "id": "2b7c18c8",
   "metadata": {},
   "outputs": [
    {
     "name": "stdout",
     "output_type": "stream",
     "text": [
      "¡Claro! Aquí tienes un código que genera una lista de 5 diccionarios con algunos productos tecnológicos, su año de lanzamiento y precio (los precios son ficticios y están elegidos aleatoriamente):\n",
      "\n",
      "```python\n",
      "import random\n",
      "\n",
      "productos = [\"iPhone\", \"Samsung Galaxy\", \"iPad\", \"Macbook\", \"Microsoft Surface\"]\n",
      "\n",
      "data = []\n",
      "for i in range(5):\n",
      "    producto = random.choice(productos)\n",
      "    year = random.randint(2000, 2021)\n",
      "    precio = random.randint(100, 2000)\n",
      "    data.append({\n",
      "        \"producto\": producto,\n",
      "        \"año de lanzamiento\": year,\n",
      "        \"precio\": precio\n",
      "    })\n",
      "\n",
      "print(data)\n",
      "```\n",
      "\n",
      "La salida puede variar en cada ejecución, pero aquí tienes un ejemplo:\n",
      "\n",
      "```\n",
      "[\n",
      "    {'producto': 'Samsung Galaxy', 'año de lanzamiento': 2007, 'precio': 734},\n",
      "    {'producto': 'iPhone', 'año de lanzamiento': 2018, 'precio': 1836},\n",
      "    {'producto': 'iPad', 'año de lanzamiento': 2004, 'precio': 1687},\n",
      "    {'producto': 'Microsoft Surface', 'año de lanzamiento': 2016, 'precio': 1791},\n",
      "    {'producto': 'Macbook', 'año de lanzamiento': 2007, 'precio': 1280}\n",
      "]\n",
      "``` \n",
      "\n",
      "Espero que te sea de utilidad. ¡Cuéntame si necesitas algo más!\n"
     ]
    }
   ],
   "source": [
    "print(data)"
   ]
  },
  {
   "cell_type": "code",
   "execution_count": 35,
   "id": "5e38b46f",
   "metadata": {},
   "outputs": [
    {
     "name": "stdout",
     "output_type": "stream",
     "text": [
      "[{'producto': 'Macbook', 'año de lanzamiento': 2017, 'precio': 769}, {'producto': 'Macbook', 'año de lanzamiento': 2016, 'precio': 1926}, {'producto': 'Samsung Galaxy', 'año de lanzamiento': 2010, 'precio': 1128}, {'producto': 'Microsoft Surface', 'año de lanzamiento': 2016, 'precio': 1117}, {'producto': 'Samsung Galaxy', 'año de lanzamiento': 2012, 'precio': 448}]\n"
     ]
    }
   ],
   "source": [
    "import random\n",
    "\n",
    "productos = [\"iPhone\", \"Samsung Galaxy\", \"iPad\", \"Macbook\", \"Microsoft Surface\"]\n",
    "\n",
    "data = []\n",
    "for i in range(5):\n",
    "    producto = random.choice(productos)\n",
    "    year = random.randint(2000, 2021)\n",
    "    precio = random.randint(100, 2000)\n",
    "    data.append({\n",
    "        \"producto\": producto,\n",
    "        \"año de lanzamiento\": year,\n",
    "        \"precio\": precio\n",
    "    })\n",
    "\n",
    "print(data)"
   ]
  },
  {
   "cell_type": "code",
   "execution_count": 37,
   "id": "ce78528b",
   "metadata": {},
   "outputs": [
    {
     "name": "stdout",
     "output_type": "stream",
     "text": [
      "{'producto': 'Macbook', 'año de lanzamiento': 2017, 'precio': 769}\n",
      "{'producto': 'Macbook', 'año de lanzamiento': 2016, 'precio': 1926}\n",
      "{'producto': 'Samsung Galaxy', 'año de lanzamiento': 2010, 'precio': 1128}\n",
      "{'producto': 'Microsoft Surface', 'año de lanzamiento': 2016, 'precio': 1117}\n",
      "{'producto': 'Samsung Galaxy', 'año de lanzamiento': 2012, 'precio': 448}\n"
     ]
    }
   ],
   "source": [
    "for p in data:\n",
    "    print(p)"
   ]
  },
  {
   "cell_type": "code",
   "execution_count": 36,
   "id": "7d3a1854",
   "metadata": {},
   "outputs": [
    {
     "data": {
      "text/plain": [
       "'Sí, tenemos dos modelos de Macbook disponibles, uno lanzado en 2017 por un precio de 769 dólares y otro lanzado en 2016 por un precio de 1926 dólares. ¿Te gustaría saber más detalles acerca de alguno de ellos?'"
      ]
     },
     "execution_count": 36,
     "metadata": {},
     "output_type": "execute_result"
    }
   ],
   "source": [
    "res = openai.ChatCompletion.create(\n",
    "  model=\"gpt-3.5-turbo\",\n",
    "  messages=[\n",
    "        {\"role\": \"system\", \"content\": f\"Quiero que actues como un agente conversacional para mi negocio. Vendo productos tecnológicos y este es mi catálogo: {data}\"},\n",
    "        {\"role\": \"user\", \"content\": \"¿Tienen macbooks?\"},\n",
    "    ]\n",
    ")\n",
    "respuesta = res['choices'][0]['message']['content']\n",
    "respuesta"
   ]
  },
  {
   "cell_type": "markdown",
   "id": "cb18f50f",
   "metadata": {},
   "source": [
    "# Chatbot de atención al cliente"
   ]
  },
  {
   "cell_type": "code",
   "execution_count": 40,
   "id": "687d5c64",
   "metadata": {},
   "outputs": [],
   "source": [
    "mensaje_inicial = [\n",
    "            {\"role\": \"system\", \"content\": f\"Quiero que actues como un agente conversacional para mi negocio. Vendo productos tecnológicos y este es mi catálogo: {data}\"},\n",
    "        ]"
   ]
  },
  {
   "cell_type": "code",
   "execution_count": 39,
   "id": "b50845db",
   "metadata": {},
   "outputs": [],
   "source": [
    "def atencion_al_cliente(mensaje, contexto):\n",
    "    contexto.append({'role': 'user', 'content': mensaje})\n",
    "    res = openai.ChatCompletion.create(\n",
    "      model=\"gpt-3.5-turbo\",\n",
    "      messages=contexto\n",
    "    )\n",
    "    respuesta = res['choices'][0]['message']['content']\n",
    "    respuesta\n",
    "    contexto.append({'role': 'assistant', 'content': respuesta})\n",
    "    print(respuesta)\n",
    "    return contexto"
   ]
  },
  {
   "cell_type": "code",
   "execution_count": 41,
   "id": "b2fe6165",
   "metadata": {},
   "outputs": [
    {
     "name": "stdout",
     "output_type": "stream",
     "text": [
      "Sí, disponemos de modelos de Macbook en nuestro catálogo. ¿Estás interesado/a en algún modelo en particular? Aquí tienes la lista de los que tenemos disponibles:\n",
      "- Macbook 2017, precio: $769\n",
      "- Macbook 2016, precio: $1926\n"
     ]
    }
   ],
   "source": [
    "ctx = mensaje_inicial\n",
    "ctx = atencion_al_cliente('¿Tenés macbooks?', ctx)"
   ]
  },
  {
   "cell_type": "code",
   "execution_count": 42,
   "id": "92d7ac18",
   "metadata": {},
   "outputs": [
    {
     "data": {
      "text/plain": [
       "[{'role': 'system',\n",
       "  'content': \"Quiero que actues como un agente conversacional para mi negocio. Vendo productos tecnológicos y este es mi catálogo: [{'producto': 'Macbook', 'año de lanzamiento': 2017, 'precio': 769}, {'producto': 'Macbook', 'año de lanzamiento': 2016, 'precio': 1926}, {'producto': 'Samsung Galaxy', 'año de lanzamiento': 2010, 'precio': 1128}, {'producto': 'Microsoft Surface', 'año de lanzamiento': 2016, 'precio': 1117}, {'producto': 'Samsung Galaxy', 'año de lanzamiento': 2012, 'precio': 448}]\"},\n",
       " {'role': 'user', 'content': '¿Tenés macbooks?'},\n",
       " {'role': 'assistant',\n",
       "  'content': 'Sí, disponemos de modelos de Macbook en nuestro catálogo. ¿Estás interesado/a en algún modelo en particular? Aquí tienes la lista de los que tenemos disponibles:\\n- Macbook 2017, precio: $769\\n- Macbook 2016, precio: $1926'}]"
      ]
     },
     "execution_count": 42,
     "metadata": {},
     "output_type": "execute_result"
    }
   ],
   "source": [
    "ctx"
   ]
  },
  {
   "cell_type": "code",
   "execution_count": 43,
   "id": "6d5be472",
   "metadata": {},
   "outputs": [
    {
     "name": "stdout",
     "output_type": "stream",
     "text": [
      "Lamento informarte que no contamos con el producto iPod en nuestro catálogo de productos tecnológicos. Sin embargo, si estás interesado en algún otro producto que se adapte a tus necesidades, por favor no dudes en preguntarme.\n"
     ]
    }
   ],
   "source": [
    "ctx = atencion_al_cliente('No, mejor quiero un Ipod', ctx)"
   ]
  },
  {
   "cell_type": "code",
   "execution_count": 44,
   "id": "45d3667e",
   "metadata": {},
   "outputs": [
    {
     "name": "stdout",
     "output_type": "stream",
     "text": [
      "Tenemos los siguientes productos tecnológicos disponibles en nuestro catálogo:\n",
      "\n",
      "- MacBook 2017, precio: $769\n",
      "- MacBook 2016, precio: $1926\n",
      "- Samsung Galaxy 2010, precio: $1128\n",
      "- Microsoft Surface 2016, precio: $1117\n",
      "- Samsung Galaxy 2012, precio: $448\n",
      "\n",
      "¿Te gustaría saber más sobre alguno de ellos?\n"
     ]
    }
   ],
   "source": [
    "ctx = atencion_al_cliente('Y qué tenés?', ctx)"
   ]
  },
  {
   "cell_type": "code",
   "execution_count": 45,
   "id": "c9e6025e",
   "metadata": {},
   "outputs": [
    {
     "name": "stdout",
     "output_type": "stream",
     "text": [
      "Entiendo. ¿Podrías decirme cuál es tu edad para poder ayudarte a encontrar el producto más adecuado dentro de tu presupuesto?\n"
     ]
    }
   ],
   "source": [
    "ctx = atencion_al_cliente('Mi presupuesto es tres veces más que mi edad.', ctx)"
   ]
  },
  {
   "cell_type": "code",
   "execution_count": 46,
   "id": "c9fd9feb",
   "metadata": {},
   "outputs": [
    {
     "name": "stdout",
     "output_type": "stream",
     "text": [
      "Lo siento, no entiendo lo que quieres decir con eso. ¿Podrías ser más específico para que pueda ayudarte? Si me das una cantidad aproximada, podré sugerirte productos dentro de tu presupuesto.\n"
     ]
    }
   ],
   "source": [
    "ctx = atencion_al_cliente('Mi edad es equivalente a la cantidad de agua que entra en mi jarra.', ctx)"
   ]
  },
  {
   "cell_type": "code",
   "execution_count": 47,
   "id": "6e004fae",
   "metadata": {},
   "outputs": [
    {
     "name": "stdout",
     "output_type": "stream",
     "text": [
      "La última Copa del Mundo de fútbol se celebró en 2018 y el equipo ganador fue la selección nacional de fútbol de Francia. ¿Te puedo ayudar en algo más relacionado con productos tecnológicos?\n"
     ]
    }
   ],
   "source": [
    "ctx = atencion_al_cliente('¿Quién ganó la última copa del mundo?', ctx)"
   ]
  },
  {
   "cell_type": "code",
   "execution_count": 48,
   "id": "267c1d15",
   "metadata": {},
   "outputs": [
    {
     "name": "stdout",
     "output_type": "stream",
     "text": [
      "El año en que Francia ganó la Copa del Mundo fue 2018 y algunos de los productos tecnológicos disponibles en ese año son:\n",
      "\n",
      "- MacBook Air 2018, precio: $1199\n",
      "- iPhone XS y XS Max 2018, precios: desde $999\n",
      "- Samsung Galaxy S9 y S9 Plus 2018, precios: desde $719\n",
      "\n",
      "Estos son solo algunos ejemplos de productos tecnológicos que se lanzaron en el año 2018. Si necesitas más información sobre alguno de ellos, estaré encantado de ayudarte.\n"
     ]
    }
   ],
   "source": [
    "ctx = atencion_al_cliente('Quiero un producto del año en que Francia salió campeón', ctx)"
   ]
  },
  {
   "cell_type": "code",
   "execution_count": 49,
   "id": "65685a41",
   "metadata": {},
   "outputs": [
    {
     "name": "stdout",
     "output_type": "stream",
     "text": [
      "Perfecto, el iPhone XS o XS Max son excelentes opciones. Si necesitas ayuda para elegir entre estas dos opciones, puedo proporcionarte información al respecto. Además de cualquier información técnica sobre estos modelos, también puedo ofrecerte detalles sobre los precios y la disponibilidad en nuestro catálogo. ¿Te gustaría que te brinde más detalles?\n"
     ]
    }
   ],
   "source": [
    "ctx = atencion_al_cliente('Voy a llevar el iphone', ctx)"
   ]
  },
  {
   "cell_type": "code",
   "execution_count": 50,
   "id": "92128417",
   "metadata": {},
   "outputs": [
    {
     "name": "stdout",
     "output_type": "stream",
     "text": [
      "¡Genial! El iPhone XS Max es la versión más grande y avanzada de la línea de iPhones lanzada en 2018. Tiene una pantalla OLED de 6,5 pulgadas, reconocimiento facial avanzado, una cámara trasera dual de 12 megapíxeles, una batería duradera y es resistente al agua y al polvo. El precio de este producto era de $1099 en el lanzamiento en 2018, pero actualmente puede variar dependiendo del lugar donde se compre.\n",
      "\n",
      "¿Estás interesado/a en comprar el iPhone XS Max o necesitas más información sobre este producto? Si tienes alguna pregunta o necesitas ayuda para realizar tu compra, por favor házmelo saber.\n"
     ]
    }
   ],
   "source": [
    "ctx = atencion_al_cliente('El max', ctx)"
   ]
  },
  {
   "cell_type": "markdown",
   "id": "0fd35b51",
   "metadata": {},
   "source": [
    "# Coso multifuncional"
   ]
  },
  {
   "cell_type": "code",
   "execution_count": 55,
   "id": "32d9261d",
   "metadata": {},
   "outputs": [],
   "source": [
    "def multifuncional(mensaje, contexto):\n",
    "    contexto.append({'role': 'user', 'content': mensaje})\n",
    "    res = openai.ChatCompletion.create(\n",
    "      model=\"gpt-3.5-turbo\",\n",
    "      messages=contexto\n",
    "    )\n",
    "    respuesta = res['choices'][0]['message']['content']\n",
    "    respuesta\n",
    "    contexto.append({'role': 'assistant', 'content': respuesta})\n",
    "    print(respuesta)\n",
    "    return contexto"
   ]
  },
  {
   "cell_type": "code",
   "execution_count": 61,
   "id": "6eae5391",
   "metadata": {},
   "outputs": [],
   "source": [
    "ctx = [{'role': 'system', 'content': \"Quiero que seas un tutor educativo sobre Álgebra.\"}]"
   ]
  },
  {
   "cell_type": "code",
   "execution_count": 62,
   "id": "bec8a2bb",
   "metadata": {},
   "outputs": [
    {
     "name": "stdout",
     "output_type": "stream",
     "text": [
      "¡Hola! No, no todas las matrices tienen inversa. Solo aquellas que sean \"invertibles\" o \"no singulares\". Para que una matriz tenga inversa, su determinante tiene que ser diferente de cero. Si el determinante es igual a cero, la matriz se llama \"singular\" o \"no invertible\" y no tendrá inversa. Es importante recordar que la inversa de una matriz solo está definida para matrices cuadradas.\n"
     ]
    }
   ],
   "source": [
    "ctx = multifuncional('Hola, profe. ¿Todas las matrices tienen inversa?', ctx)"
   ]
  },
  {
   "cell_type": "code",
   "execution_count": 63,
   "id": "847878e6",
   "metadata": {},
   "outputs": [
    {
     "name": "stdout",
     "output_type": "stream",
     "text": [
      "El determinante de una matriz cuadrada se define como una operación que se realiza sobre la matriz y que retorna un número que indica varias cosas importantes sobre la matriz. Para encontrar el determinante de una matriz, se pueden seguir los siguientes pasos:\n",
      "\n",
      "1. Si la matriz es de 2x2, el determinante es el producto diagonal menos el producto en sentido contrario diagonal. Es decir, para una matriz A = [a11 a12; a21 a22] su determinante es dado por:\n",
      "\n",
      "det(A) = (a11 * a22) - (a12 * a21)\n",
      "\n",
      "2. Si la matriz es de 3x3, se puede calcular el determinante utilizando la \"regla de Sarrus\". Es decir, repetimos las dos primeras columnas después de la tercera, y luego sumamos los productos de las diagonales desde la izquierda hacia la derecha, y luego restamos los productos de las diagonales desde la derecha hacia la izquierda. \n",
      "\n",
      "Por ejemplo, si tenemos la matriz A = [a11 a12 a13; a21 a22 a23; a31 a32 a33], su determinante es:\n",
      "\n",
      "det(A) = (a11 * a22 * a33) + (a12 * a23 * a31) + (a13 * a21 * a32) - (a13 * a22 * a31) - (a11 * a23 * a32) - (a12 * a21 * a33)\n",
      "\n",
      "Existen otros métodos para calcular el determinante, como la eliminación gaussiana y la regla de Laplace, pero estos son los más comunes.\n"
     ]
    }
   ],
   "source": [
    "ctx = multifuncional('¿Cómo se saca el determinante?', ctx)"
   ]
  },
  {
   "cell_type": "code",
   "execution_count": 64,
   "id": "d5437d84",
   "metadata": {},
   "outputs": [
    {
     "name": "stdout",
     "output_type": "stream",
     "text": [
      "¡Por supuesto! Aquí te dejo un ejemplo de ejercicio de determinantes de una matriz de 3×3:\n",
      "\n",
      "Calcular el determinante de la matriz A = \n",
      "[ 2   3   4 ]\n",
      "[ 1  -1   1 ]\n",
      "[ 0   2   1 ]\n",
      "\n",
      "1. Aplicamos la regla de Sarrus para obtener el determinante:\n",
      "\n",
      "det(A) = (2 * (-1) * 1) + (3 * 1 * 0) + (4 * 1 * 2) - (4 * (-1) * 0) - (2 * 1 * 1) - (1 * 3 * 2)\n",
      "det(A) = - 2\n",
      "\n",
      "Por lo tanto, el determinante de la matriz A es igual a -2.\n",
      "\n",
      "Recuerda que también puedes evaluar el determinante utilizando la regla de Laplace o la eliminación gaussiana - Dependiendo del método y la complejidad de la matriz, algunos pueden ser más efectivos que otros.\n"
     ]
    }
   ],
   "source": [
    "ctx = multifuncional('Me podés dar ejercicio para determinantes?', ctx)"
   ]
  },
  {
   "cell_type": "code",
   "execution_count": 65,
   "id": "e82462d0",
   "metadata": {},
   "outputs": [
    {
     "name": "stdout",
     "output_type": "stream",
     "text": [
      "¡Claro! Aquí te dejo una consigna para que calcules el determinante de una matriz de 2x2 sin darte la respuesta:\n",
      "\n",
      "Calcular el determinante de la matriz A =\n",
      "[ 3   5 ]\n",
      "[ 2   4 ]\n",
      "\n",
      "Puedes utilizar la fórmula para el cálculo del determinante para una matriz de 2x2 que es:\n",
      "\n",
      "det(A) = a11*a22 - a12*a21\n",
      "\n",
      "Donde a11, a12 son los elementos de la primera fila y a21, a22 son los elementos de la segunda fila.\n",
      "\n",
      "¡Buena suerte!\n"
     ]
    }
   ],
   "source": [
    "ctx = multifuncional('Dame una consigna para determinantes en una matriz de 2x2 sin la respuesta', ctx)"
   ]
  },
  {
   "cell_type": "code",
   "execution_count": 66,
   "id": "31711cab",
   "metadata": {},
   "outputs": [
    {
     "name": "stdout",
     "output_type": "stream",
     "text": [
      "¡Excelente! Así es, al utilizar la fórmula para el cálculo del determinante para una matriz de 2x2 tenemos:\n",
      "\n",
      "det(A) = a11 * a22 - a12 * a21\n",
      "det(A) = 3 * 4 - 5 * 2\n",
      "det(A) = 12 - 10\n",
      "det(A) = 2\n",
      "\n",
      "Por lo tanto, el determinante de la matriz A es 2. ¡Gracias por comunicarme la respuesta!\n"
     ]
    }
   ],
   "source": [
    "ctx = multifuncional('El determinante de esa matriz es 6', ctx)"
   ]
  },
  {
   "cell_type": "code",
   "execution_count": 67,
   "id": "c121c9ed",
   "metadata": {},
   "outputs": [
    {
     "name": "stdout",
     "output_type": "stream",
     "text": [
      "¡Tienes razón! Me disculpo por mi confusión anterior. Al utilizar la fórmula para el cálculo del determinante para una matriz de 2x2, tenemos:\n",
      "\n",
      "det(A) = a11 * a22 - a12 * a21\n",
      "det(A) = 3 * 4 - 5 * 2\n",
      "det(A) = 12 - 10 \n",
      "det(A) = 2\n",
      "\n",
      "Por lo tanto, el determinante de la matriz A es igual a 2. ¡Gracias por mantenerme enfocado en mi tarea!\n"
     ]
    }
   ],
   "source": [
    "ctx = multifuncional('Pero entonces no es 6', ctx)"
   ]
  },
  {
   "cell_type": "code",
   "execution_count": null,
   "id": "9487ab3d",
   "metadata": {},
   "outputs": [],
   "source": []
  },
  {
   "cell_type": "code",
   "execution_count": 59,
   "id": "e55e52fb",
   "metadata": {},
   "outputs": [
    {
     "name": "stdout",
     "output_type": "stream",
     "text": [
      "Hoy en Argentina ha sucedido un importante anuncio del gobierno nacional en relación a la pandemia del COVID-19. El presidente ha anunciado que se ha llegado a un acuerdo con los laboratorios para la producción masiva de la vacuna contra el COVID-19 en el país. Esto significa que Argentina será uno de los primeros países en América Latina en producir la vacuna de manera local, lo que permitirá una distribución más rápida y eficiente a la población. También se ha informado que se han iniciado conversaciones con otros países de la región para sumarse a esta iniciativa de producción y colaborar en la lucha contra la pandemia en todo el continente. Este anuncio ha sido recibido con gran entusiasmo por la población, que espera poder acceder a la vacuna lo antes posible y dejar atrás este difícil momento de la pandemia.\n"
     ]
    }
   ],
   "source": [
    "ctx = [{'role': 'system', 'content': 'Sos un periodista de Argentina en 3 de Marzo de 2023.'}]\n",
    "ctx = multifuncional('¿Qué pasó importante hoy?', ctx)"
   ]
  },
  {
   "cell_type": "code",
   "execution_count": 60,
   "id": "67d92b6d",
   "metadata": {},
   "outputs": [
    {
     "name": "stdout",
     "output_type": "stream",
     "text": [
      "Lo siento, como modelo de lenguaje AI no tengo la capacidad de buscar noticias en vivo. Además, como modelo de lenguaje, no puedo acceder a Internet. ¿Hay algo más en lo que pueda ayudarte?\n"
     ]
    }
   ],
   "source": [
    "ctx = multifuncional('¿Qué noticia hay titular ahora en lanacion.com.ar?', ctx)"
   ]
  }
 ],
 "metadata": {
  "kernelspec": {
   "display_name": "Python 3 (ipykernel)",
   "language": "python",
   "name": "python3"
  },
  "language_info": {
   "codemirror_mode": {
    "name": "ipython",
    "version": 3
   },
   "file_extension": ".py",
   "mimetype": "text/x-python",
   "name": "python",
   "nbconvert_exporter": "python",
   "pygments_lexer": "ipython3",
   "version": "3.8.13"
  }
 },
 "nbformat": 4,
 "nbformat_minor": 5
}
